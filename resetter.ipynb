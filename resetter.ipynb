{
 "cells": [
  {
   "cell_type": "code",
   "execution_count": 1,
   "id": "2003fb18-d849-4c6c-acb4-5e95fc73d09e",
   "metadata": {},
   "outputs": [
    {
     "data": {
      "text/plain": [
       "['atass_config.ini']"
      ]
     },
     "execution_count": 1,
     "metadata": {},
     "output_type": "execute_result"
    }
   ],
   "source": [
    "import configparser\n",
    "import time\n",
    "\n",
    "import requests\n",
    "\n",
    "config = configparser.ConfigParser()\n",
    "config.read(\"config.ini\")"
   ]
  },
  {
   "cell_type": "code",
   "execution_count": 2,
   "id": "e4af83c2-d009-474a-b5a0-40493b26e2b5",
   "metadata": {},
   "outputs": [],
   "source": [
    "ADRESS = config[\"java_ip\"][\"trading_ip\"]"
   ]
  },
  {
   "cell_type": "code",
   "execution_count": 3,
   "id": "ba837499-60c0-4afc-a3b4-7b18dc121801",
   "metadata": {},
   "outputs": [],
   "source": [
    "def only_close():\n",
    "    requests.get(ADRESS + \"onlyclose\")\n",
    "\n",
    "\n",
    "def send_portfolio():\n",
    "    portfolios = PORTFOLIOS\n",
    "    requests.post(ADRESS + \"rebalance\", json=portfolios)"
   ]
  },
  {
   "cell_type": "code",
   "execution_count": 4,
   "id": "bdf3255e-601d-4c6f-a295-d620e21f8650",
   "metadata": {},
   "outputs": [],
   "source": [
    "PORTFOLIOS = [\n",
    "    {\n",
    "        \"negative_group\": {\"GradientBoostingClassifier~PC\": 1},\n",
    "        \"positive_group\": None,\n",
    "        \"portfolio\": \"('TOP_N', 'AG|PC', '0.5, 0.5', '1, 0')\",\n",
    "        \"symbol\": \"EURCHF\",\n",
    "        \"timeframe\": \"H1\",\n",
    "        \"weight\": 1 / 3,\n",
    "    },\n",
    "    {\n",
    "        \"negative_group\": {\"GradientBoostingClassifier~PC\": 1},\n",
    "        \"positive_group\": None,\n",
    "        \"portfolio\": \"('TOP_N', 'AG|PC', '0.5, 0.5', '1, 0')\",\n",
    "        \"symbol\": \"EURUSD\",\n",
    "        \"timeframe\": \"H1\",\n",
    "        \"weight\": 1 / 3,\n",
    "    },\n",
    "    {\n",
    "        \"negative_group\": {\"GradientBoostingClassifier~PC\": 1},\n",
    "        \"positive_group\": None,\n",
    "        \"portfolio\": \"('TOP_N', 'AG|PC', '0.5, 0.5', '1, 0')\",\n",
    "        \"symbol\": \"NZDCAD\",\n",
    "        \"timeframe\": \"H1\",\n",
    "        \"weight\": 1 / 3,\n",
    "    },\n",
    "]"
   ]
  },
  {
   "cell_type": "code",
   "execution_count": 6,
   "id": "fe688070-1d66-47fc-8bfa-a88f8c4d6157",
   "metadata": {},
   "outputs": [],
   "source": [
    "only_close()\n",
    "time.sleep(2)\n",
    "send_portfolio()"
   ]
  }
 ],
 "metadata": {
  "kernelspec": {
   "display_name": "Python 3 (ipykernel)",
   "language": "python",
   "name": "python3"
  },
  "language_info": {
   "codemirror_mode": {
    "name": "ipython",
    "version": 3
   },
   "file_extension": ".py",
   "mimetype": "text/x-python",
   "name": "python",
   "nbconvert_exporter": "python",
   "pygments_lexer": "ipython3",
   "version": "3.10.8"
  }
 },
 "nbformat": 4,
 "nbformat_minor": 5
}
