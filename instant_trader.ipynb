{
 "cells": [
  {
   "cell_type": "code",
   "execution_count": null,
   "id": "5e90d15e-702f-4fd0-b2df-c6f15a0e8b84",
   "metadata": {},
   "outputs": [
    {
     "name": "stdout",
     "output_type": "stream",
     "text": [
      "('EURCHF', 'H1', 'work_dir/', 'trader')\n",
      "('EURUSD', 'H1', 'work_dir/', 'trader')\n",
      "('NZDCAD', 'H1', 'work_dir/', 'trader')\n"
     ]
    }
   ],
   "source": [
    "import configparser\n",
    "import json\n",
    "from concurrent.futures import ProcessPoolExecutor\n",
    "\n",
    "import live_trader\n",
    "\n",
    "config = configparser.ConfigParser()\n",
    "config.read(\"config.ini\")\n",
    "\n",
    "ADRESS = config[\"java_ip\"][\"trading_ip\"]\n",
    "WORK_PATH = config[\"directories\"][\"work_directory\"]\n",
    "\n",
    "work_directory = config[\"directories\"][\"work_directory\"]\n",
    "my_id = config[\"java_ip\"][\"my_id\"]\n",
    "\n",
    "my_id = \"trader\"\n",
    "symbols = [\n",
    "    # \"AUDUSD\",\n",
    "    \"EURCHF\",\n",
    "    # \"EURGBP\",\n",
    "    \"EURUSD\",\n",
    "    # \"GBPCHF\",\n",
    "    \"NZDCAD\",\n",
    "    # \"USDCAD\",\n",
    "    # \"USDCHF\",\n",
    "]\n",
    "TIMEFRAME = \"H1\"\n",
    "\n",
    "max_workers = len(symbols)\n",
    "\n",
    "params = [\n",
    "    (\n",
    "        symbol,\n",
    "        TIMEFRAME,\n",
    "        WORK_PATH,\n",
    "        str(my_id),\n",
    "    )\n",
    "    for symbol in symbols\n",
    "]\n",
    "\n",
    "\n",
    "if __name__ == \"__main__\":\n",
    "    with ProcessPoolExecutor(max_workers=max_workers) as executor:\n",
    "        for param in params:\n",
    "            print(param)\n",
    "            smth = executor.submit(\n",
    "                live_trader.main, param[0], param[1], param[2], param[3]\n",
    "            )"
   ]
  }
 ],
 "metadata": {
  "kernelspec": {
   "display_name": "pycaret3",
   "language": "python",
   "name": "pycaret"
  },
  "language_info": {
   "codemirror_mode": {
    "name": "ipython",
    "version": 3
   },
   "file_extension": ".py",
   "mimetype": "text/x-python",
   "name": "python",
   "nbconvert_exporter": "python",
   "pygments_lexer": "ipython3",
   "version": "3.10.8"
  }
 },
 "nbformat": 4,
 "nbformat_minor": 5
}
